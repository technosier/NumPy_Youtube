{
 "cells": [
  {
   "cell_type": "markdown",
   "metadata": {},
   "source": [
    "# Why numpy array or list ?"
   ]
  },
  {
   "cell_type": "markdown",
   "metadata": {},
   "source": [
    "# Understanding Datatypes in Python"
   ]
  },
  {
   "cell_type": "markdown",
   "metadata": {},
   "source": [
    "### C code"
   ]
  },
  {
   "cell_type": "markdown",
   "metadata": {},
   "source": [
    "int result = 0;<br>\n",
    "for(int i=0; i<100; i++){<br>\n",
    "result += i;<br>\n",
    "}<br>"
   ]
  },
  {
   "cell_type": "markdown",
   "metadata": {},
   "source": [
    "### Python code"
   ]
  },
  {
   "cell_type": "code",
   "execution_count": 3,
   "metadata": {},
   "outputs": [],
   "source": [
    "x=\"aarjav\""
   ]
  },
  {
   "cell_type": "code",
   "execution_count": 4,
   "metadata": {},
   "outputs": [
    {
     "data": {
      "text/plain": [
       "str"
      ]
     },
     "execution_count": 4,
     "metadata": {},
     "output_type": "execute_result"
    }
   ],
   "source": [
    "type(x)"
   ]
  },
  {
   "cell_type": "markdown",
   "metadata": {},
   "source": [
    "result = 0<br>\n",
    "for i in range(100):<br>\n",
    "result += i<br>"
   ]
  },
  {
   "cell_type": "markdown",
   "metadata": {},
   "source": [
    "### Structure of long type int"
   ]
  },
  {
   "cell_type": "markdown",
   "metadata": {},
   "source": [
    "struct _longobject {<br>\n",
    "long ob_refcnt;<br>\n",
    "PyTypeObject *ob_type;<br>\n",
    "size_t ob_size;<br>\n",
    "long ob_digit[1];<br>\n",
    "};<br>"
   ]
  },
  {
   "cell_type": "markdown",
   "metadata": {},
   "source": [
    "    • ob_refcnt, a reference count that helps Python silently handle memory allocation\n",
    "    and deallocation\n",
    "    \n",
    "    • ob_type, which encodes the type of the variable\n",
    "    \n",
    "    • ob_size, which specifies the size of the following data members\n",
    "    \n",
    "    • ob_digit, which contains the actual integer value that we expect the Python variable\n",
    "    to represent"
   ]
  },
  {
   "cell_type": "markdown",
   "metadata": {},
   "source": [
    "<img src='./images/first.jpg'>"
   ]
  },
  {
   "cell_type": "markdown",
   "metadata": {},
   "source": [
    "<img src='./images/second.jpg'>"
   ]
  },
  {
   "cell_type": "code",
   "execution_count": null,
   "metadata": {},
   "outputs": [],
   "source": []
  }
 ],
 "metadata": {
  "kernelspec": {
   "display_name": "Python 3",
   "language": "python",
   "name": "python3"
  },
  "language_info": {
   "codemirror_mode": {
    "name": "ipython",
    "version": 3
   },
   "file_extension": ".py",
   "mimetype": "text/x-python",
   "name": "python",
   "nbconvert_exporter": "python",
   "pygments_lexer": "ipython3",
   "version": "3.7.4"
  }
 },
 "nbformat": 4,
 "nbformat_minor": 4
}
